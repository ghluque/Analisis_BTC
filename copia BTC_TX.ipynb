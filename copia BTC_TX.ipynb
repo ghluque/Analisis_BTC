{
  "nbformat": 4,
  "nbformat_minor": 0,
  "metadata": {
    "colab": {
      "name": "Copia de BTC_TX.ipynb",
      "provenance": [],
      "collapsed_sections": [],
      "include_colab_link": true
    },
    "kernelspec": {
      "name": "python3",
      "display_name": "Python 3"
    }
  },
  "cells": [
    {
      "cell_type": "markdown",
      "metadata": {
        "id": "view-in-github",
        "colab_type": "text"
      },
      "source": [
        "<a href=\"https://colab.research.google.com/github/ghluque/Analisis_BTC/blob/master/copia%20BTC_TX.ipynb\" target=\"_parent\"><img src=\"https://colab.research.google.com/assets/colab-badge.svg\" alt=\"Open In Colab\"/></a>"
      ]
    },
    {
      "cell_type": "markdown",
      "metadata": {
        "id": "5PxqpAP8LN-R",
        "colab_type": "text"
      },
      "source": [
        "Primero importamos las librerias que vamos a necesitar \n",
        "\n",
        "Requests se utiliza para leer informacion desde una url\n",
        "json es un tipo de archivo, pandas solo lee json con forma de data frame. "
      ]
    },
    {
      "cell_type": "code",
      "metadata": {
        "id": "Nivzmy2oLJ-2",
        "colab_type": "code",
        "colab": {}
      },
      "source": [
        "import pandas as pd\n",
        "import numpy as np\n",
        "\n",
        "import requests \n",
        "import json \n"
      ],
      "execution_count": 14,
      "outputs": []
    },
    {
      "cell_type": "markdown",
      "metadata": {
        "id": "spsNT4YpGubK",
        "colab_type": "text"
      },
      "source": [
        "Nombramos el url de block"
      ]
    },
    {
      "cell_type": "code",
      "metadata": {
        "id": "6CLVVctALbDr",
        "colab_type": "code",
        "colab": {}
      },
      "source": [
        "block_url=\"https://blockchain.info/rawblock/0000000000000000000cfe48631b9dc8083201f7bda4deb5bc081e344d1a5913\""
      ],
      "execution_count": 15,
      "outputs": []
    },
    {
      "cell_type": "markdown",
      "metadata": {
        "id": "xmlou00OGOJD",
        "colab_type": "text"
      },
      "source": [
        "block es un diccionario de diccionarios y arrays"
      ]
    },
    {
      "cell_type": "code",
      "metadata": {
        "id": "xoJTlxkhLehr",
        "colab_type": "code",
        "colab": {}
      },
      "source": [
        "block= json.loads(requests.get(block_url).text) "
      ],
      "execution_count": 16,
      "outputs": []
    },
    {
      "cell_type": "markdown",
      "metadata": {
        "id": "3dzyCzUo1UqP",
        "colab_type": "text"
      },
      "source": [
        "Por ej: la transaccion 2, que propiedades tiene? \n",
        "\n",
        "Lo mas importante de aca es: \n",
        "fee: es como una especie de recompensa por transaccion ejecutada que reciben los mineros o encargados de la seguridad del bloque.\n",
        "hash: Es la \"direccion\" de la transaccion. \n",
        "Inputs: entrada de dinero a \"X\" billetera.\n",
        "out=output: salida de dinero a \"X\" billetera.\n",
        "prev_ out: salida de dinero de una transaccion previa.\n",
        "addr: direccion de billetera. \n",
        "n: orden de input/output\n",
        "value: valor en \"satoshis\" de input/output.\n"
      ]
    },
    {
      "cell_type": "code",
      "metadata": {
        "id": "RnJaEUz8M_hL",
        "colab_type": "code",
        "colab": {
          "base_uri": "https://localhost:8080/",
          "height": 921
        },
        "outputId": "35daa7bc-beca-4509-86fc-42a452703341"
      },
      "source": [
        "block['tx'][2] "
      ],
      "execution_count": 4,
      "outputs": [
        {
          "output_type": "execute_result",
          "data": {
            "text/plain": [
              "{'balance': 0,\n",
              " 'block_height': 619002,\n",
              " 'block_index': 0,\n",
              " 'double_spend': False,\n",
              " 'fee': 100000,\n",
              " 'hash': '12565431a8f14cc4e65767b76914969474652fa0b69b02e8fcf177f977e9e5d7',\n",
              " 'inputs': [{'index': 0,\n",
              "   'prev_out': {'addr': '17A16QmavnUfCW11DAApiJxp7ARnxN5pGX',\n",
              "    'n': 2,\n",
              "    'script': '76a91443849383122ebb8a28268a89700c9f723663b5b888ac',\n",
              "    'spending_outpoints': [{'n': 0, 'tx_index': 0}],\n",
              "    'spent': True,\n",
              "    'tx_index': 0,\n",
              "    'type': 0,\n",
              "    'value': 253537196},\n",
              "   'script': '483045022100d981306e2cb0ef59167c408d3dbd81e81af36e9e105ccbf0d110b3d8af39c6f50220246b4e8e7e36be43148778ea6fb8658728535fcdc31503fb821d083f71654d9d0141047146f0e0fcb3139947cf0beb870fe251930ca10d4545793d31033e801b5219abf56c11a3cf3406ca590e4c14b0dab749d20862b3adc4709153c280c2a78be10c',\n",
              "   'sequence': 4294967295,\n",
              "   'witness': ''}],\n",
              " 'lock_time': 0,\n",
              " 'out': [{'addr': '325kjwqJKbcCnJ2LhjqmmeXaPhYiTZ1EFN',\n",
              "   'n': 0,\n",
              "   'script': 'a914044ce4aa9472b406557ae47b52b98d098dc29d7a87',\n",
              "   'spending_outpoints': [{'n': 1, 'tx_index': 0}],\n",
              "   'spent': True,\n",
              "   'tx_index': 0,\n",
              "   'type': 0,\n",
              "   'value': 1180000},\n",
              "  {'addr': '3QpqVNmWrjLMYQZurdTmVywisbqXUuMc6i',\n",
              "   'n': 1,\n",
              "   'script': 'a914fdc582cb9dd1fea5dbd3eb8a3054354baf8e574d87',\n",
              "   'spending_outpoints': [],\n",
              "   'spent': False,\n",
              "   'tx_index': 0,\n",
              "   'type': 0,\n",
              "   'value': 7125764},\n",
              "  {'addr': '17A16QmavnUfCW11DAApiJxp7ARnxN5pGX',\n",
              "   'n': 2,\n",
              "   'script': '76a91443849383122ebb8a28268a89700c9f723663b5b888ac',\n",
              "   'spending_outpoints': [{'n': 0, 'tx_index': 0}],\n",
              "   'spent': True,\n",
              "   'tx_index': 0,\n",
              "   'type': 0,\n",
              "   'value': 245131432}],\n",
              " 'relayed_by': '127.0.0.1',\n",
              " 'result': 0,\n",
              " 'size': 288,\n",
              " 'time': 1582675806,\n",
              " 'tx_index': 0,\n",
              " 'ver': 2,\n",
              " 'vin_sz': 1,\n",
              " 'vout_sz': 3,\n",
              " 'weight': 1152}"
            ]
          },
          "metadata": {
            "tags": []
          },
          "execution_count": 4
        }
      ]
    },
    {
      "cell_type": "markdown",
      "metadata": {
        "id": "rStGxa7bG8CI",
        "colab_type": "text"
      },
      "source": [
        "Maximo de inputs por tx\n",
        "\n",
        "Maximo de outputs por tx\n",
        "\n",
        "Agrega 0 a la lista hasta alcanzar el desiredLen\n",
        "\n",
        "Devuelve una tx de la blockchain como una lista con hash, 5 inputs y 5 outputs."
      ]
    },
    {
      "cell_type": "code",
      "metadata": {
        "id": "hf-wtSoyODkV",
        "colab_type": "code",
        "colab": {}
      },
      "source": [
        "IN_CNT_MAX=5 \n",
        "OUT_CNT_MAX=5 \n",
        "Tx_keys= ['hash','time']\n",
        "Tx_normalized_cols= Tx_keys + ['i'+str(n)+'v' for n in range(0,IN_CNT_MAX)] + ['o'+str(n)+'v' for n in range(0,OUT_CNT_MAX)]\n",
        "def pad_list(l,desiredLen):\n",
        "  \n",
        "  return l + [0] * (desiredLen-len(l)) if len(l)<desiredLen else l[0:desiredLen]\n",
        "\n",
        "def tx_in_normalized(tx):\n",
        "  return [(x['prev_out']['value'] if 'prev_out' in x else 0) for x in tx['inputs']]\n",
        "\n",
        "def tx_out_normalized(tx):\n",
        "  return [x['value'] for x in tx['out']]\n",
        "\n",
        "def tx_normalized(tx):\n",
        "  \n",
        "  return [tx[k] for k in Tx_keys] + pad_list(tx_in_normalized(tx),IN_CNT_MAX) + pad_list(tx_out_normalized(tx),OUT_CNT_MAX)"
      ],
      "execution_count": 5,
      "outputs": []
    },
    {
      "cell_type": "markdown",
      "metadata": {
        "id": "mPzudlpQ2il4",
        "colab_type": "text"
      },
      "source": [
        "Normalizamos nuestro bloque para que tenga forma de tabla y creamos un dataframe\n",
        "\n",
        "Convertimos el time del bloque en un date time."
      ]
    },
    {
      "cell_type": "code",
      "metadata": {
        "id": "CgngbqS4rNKs",
        "colab_type": "code",
        "colab": {}
      },
      "source": [
        "tx= pd.DataFrame( [ tx_normalized(tx) for tx in block['tx'] ], columns= Tx_normalized_cols)\n",
        "\n",
        "tx.time= pd.to_datetime(tx.time, unit='s') "
      ],
      "execution_count": 6,
      "outputs": []
    },
    {
      "cell_type": "markdown",
      "metadata": {
        "id": "kDHG8ln-26mF",
        "colab_type": "text"
      },
      "source": [
        "Transaccion: x ej si en una anterior compre 3 btc y le pago 1 a Mauricio. Le mando 1 btc a Mauricio y 2 a mi billetera (que seria el vuelto)"
      ]
    },
    {
      "cell_type": "code",
      "metadata": {
        "id": "bvrK1bpcPwSV",
        "colab_type": "code",
        "colab": {
          "base_uri": "https://localhost:8080/",
          "height": 68
        },
        "outputId": "0a1e8701-a062-4d65-d261-24869d756ead"
      },
      "source": [
        "print(\"Direccion anterior {}\\nEl vuelto va a {}\\n\",[ block['tx'][2]['inputs'][0]['prev_out']['addr'], block['tx'][2]['out'][2]['addr'] ])"
      ],
      "execution_count": 7,
      "outputs": [
        {
          "output_type": "stream",
          "text": [
            "Direccion anterior {}\n",
            "El vuelto va a {}\n",
            " ['17A16QmavnUfCW11DAApiJxp7ARnxN5pGX', '17A16QmavnUfCW11DAApiJxp7ARnxN5pGX']\n"
          ],
          "name": "stdout"
        }
      ]
    },
    {
      "cell_type": "markdown",
      "metadata": {
        "id": "6ez5-6bRrJ1W",
        "colab_type": "text"
      },
      "source": [
        "Los numeros del tx estan en \"satoshis\" que son la millonesima parte de 1 btc. Entonces procedemos a dividir por /1000000 para obtener numeros mas legibles\n",
        "\n",
        "Sumamos para conocer el total en bruto de cada transaccion. Y de paso le agregamos la columna TOTAL al data frame. \n",
        "\n",
        "Y por ultimo, mostramos el encabezado."
      ]
    },
    {
      "cell_type": "code",
      "metadata": {
        "id": "8TRzE5b8pS_Z",
        "colab_type": "code",
        "colab": {
          "base_uri": "https://localhost:8080/",
          "height": 204
        },
        "outputId": "8a02dcce-15a2-4c10-ec6d-73dc9ca73d0c"
      },
      "source": [
        "#imputs\n",
        "tx['i0v'] /= 1000000\n",
        "tx['i1v'] /= 1000000\n",
        "tx['i2v'] /= 1000000\n",
        "tx['i3v'] /= 1000000\n",
        "tx['i4v'] /= 1000000\n",
        "\n",
        "\n",
        "#outputs\n",
        "tx['o0v'] /= 1000000\n",
        "tx['o1v'] /= 1000000\n",
        "tx['o2v'] /= 1000000\n",
        "tx['o3v'] /= 1000000\n",
        "tx['o4v'] /= 1000000\n",
        "\n",
        "\n",
        "\n",
        "tx['TOTAL']=tx.iloc[:,2:11].sum(axis=1)\n",
        "\n",
        "\n",
        "tx.head()"
      ],
      "execution_count": 13,
      "outputs": [
        {
          "output_type": "execute_result",
          "data": {
            "text/html": [
              "<div>\n",
              "<style scoped>\n",
              "    .dataframe tbody tr th:only-of-type {\n",
              "        vertical-align: middle;\n",
              "    }\n",
              "\n",
              "    .dataframe tbody tr th {\n",
              "        vertical-align: top;\n",
              "    }\n",
              "\n",
              "    .dataframe thead th {\n",
              "        text-align: right;\n",
              "    }\n",
              "</style>\n",
              "<table border=\"1\" class=\"dataframe\">\n",
              "  <thead>\n",
              "    <tr style=\"text-align: right;\">\n",
              "      <th></th>\n",
              "      <th>hash</th>\n",
              "      <th>time</th>\n",
              "      <th>i0v</th>\n",
              "      <th>i1v</th>\n",
              "      <th>i2v</th>\n",
              "      <th>i3v</th>\n",
              "      <th>i4v</th>\n",
              "      <th>o0v</th>\n",
              "      <th>o1v</th>\n",
              "      <th>o2v</th>\n",
              "      <th>o3v</th>\n",
              "      <th>o4v</th>\n",
              "      <th>TOTAL</th>\n",
              "    </tr>\n",
              "  </thead>\n",
              "  <tbody>\n",
              "    <tr>\n",
              "      <th>0</th>\n",
              "      <td>bfcc1c233827fbf147b9744b58844465abf61232c02fb2...</td>\n",
              "      <td>2020-02-26 00:10:06</td>\n",
              "      <td>0.000000e+00</td>\n",
              "      <td>0.0</td>\n",
              "      <td>0.0</td>\n",
              "      <td>0.0</td>\n",
              "      <td>0.0</td>\n",
              "      <td>1.276409e-27</td>\n",
              "      <td>0.000000e+00</td>\n",
              "      <td>0.000000e+00</td>\n",
              "      <td>0.0</td>\n",
              "      <td>0.0</td>\n",
              "      <td>1.276409e-27</td>\n",
              "    </tr>\n",
              "    <tr>\n",
              "      <th>1</th>\n",
              "      <td>8325d3decbb805e09f042fc946bc61076be3578af331b1...</td>\n",
              "      <td>2020-02-26 00:10:06</td>\n",
              "      <td>5.000000e-26</td>\n",
              "      <td>0.0</td>\n",
              "      <td>0.0</td>\n",
              "      <td>0.0</td>\n",
              "      <td>0.0</td>\n",
              "      <td>5.100000e-27</td>\n",
              "      <td>4.489992e-26</td>\n",
              "      <td>0.000000e+00</td>\n",
              "      <td>0.0</td>\n",
              "      <td>0.0</td>\n",
              "      <td>9.999992e-26</td>\n",
              "    </tr>\n",
              "    <tr>\n",
              "      <th>2</th>\n",
              "      <td>12565431a8f14cc4e65767b76914969474652fa0b69b02...</td>\n",
              "      <td>2020-02-26 00:10:06</td>\n",
              "      <td>2.535372e-28</td>\n",
              "      <td>0.0</td>\n",
              "      <td>0.0</td>\n",
              "      <td>0.0</td>\n",
              "      <td>0.0</td>\n",
              "      <td>1.180000e-30</td>\n",
              "      <td>7.125764e-30</td>\n",
              "      <td>2.451314e-28</td>\n",
              "      <td>0.0</td>\n",
              "      <td>0.0</td>\n",
              "      <td>5.069744e-28</td>\n",
              "    </tr>\n",
              "    <tr>\n",
              "      <th>3</th>\n",
              "      <td>0f24da007c306726713906933e0e171800290cbf5e3047...</td>\n",
              "      <td>2020-02-26 00:10:06</td>\n",
              "      <td>2.451314e-28</td>\n",
              "      <td>0.0</td>\n",
              "      <td>0.0</td>\n",
              "      <td>0.0</td>\n",
              "      <td>0.0</td>\n",
              "      <td>7.875000e-30</td>\n",
              "      <td>9.994323e-30</td>\n",
              "      <td>2.271621e-28</td>\n",
              "      <td>0.0</td>\n",
              "      <td>0.0</td>\n",
              "      <td>4.901629e-28</td>\n",
              "    </tr>\n",
              "    <tr>\n",
              "      <th>4</th>\n",
              "      <td>9491757c01ab9c01eb03d6db97e4feba4c4675bf6dd803...</td>\n",
              "      <td>2020-02-26 00:10:06</td>\n",
              "      <td>7.778833e-28</td>\n",
              "      <td>0.0</td>\n",
              "      <td>0.0</td>\n",
              "      <td>0.0</td>\n",
              "      <td>0.0</td>\n",
              "      <td>1.070052e-29</td>\n",
              "      <td>7.671327e-28</td>\n",
              "      <td>0.000000e+00</td>\n",
              "      <td>0.0</td>\n",
              "      <td>0.0</td>\n",
              "      <td>1.555716e-27</td>\n",
              "    </tr>\n",
              "  </tbody>\n",
              "</table>\n",
              "</div>"
            ],
            "text/plain": [
              "                                                hash  ...         TOTAL\n",
              "0  bfcc1c233827fbf147b9744b58844465abf61232c02fb2...  ...  1.276409e-27\n",
              "1  8325d3decbb805e09f042fc946bc61076be3578af331b1...  ...  9.999992e-26\n",
              "2  12565431a8f14cc4e65767b76914969474652fa0b69b02...  ...  5.069744e-28\n",
              "3  0f24da007c306726713906933e0e171800290cbf5e3047...  ...  4.901629e-28\n",
              "4  9491757c01ab9c01eb03d6db97e4feba4c4675bf6dd803...  ...  1.555716e-27\n",
              "\n",
              "[5 rows x 13 columns]"
            ]
          },
          "metadata": {
            "tags": []
          },
          "execution_count": 13
        }
      ]
    },
    {
      "cell_type": "markdown",
      "metadata": {
        "id": "tLhjKzGSMIOO",
        "colab_type": "text"
      },
      "source": [
        "He aqui el error. Porque el total no se puede calcular con una simple suma o resta. Sino que hay que identificar los valores de outputs que van a la misma billetera para no operarlos dos veces."
      ]
    },
    {
      "cell_type": "code",
      "metadata": {
        "id": "pupqR8s5C-vY",
        "colab_type": "code",
        "colab": {
          "base_uri": "https://localhost:8080/",
          "height": 306
        },
        "outputId": "64d93c09-4c91-4d55-e483-a02a2ffb6196"
      },
      "source": [
        "tx.groupby"
      ],
      "execution_count": null,
      "outputs": [
        {
          "output_type": "error",
          "ename": "KeyError",
          "evalue": "ignored",
          "traceback": [
            "\u001b[0;31m---------------------------------------------------------------------------\u001b[0m",
            "\u001b[0;31mKeyError\u001b[0m                                  Traceback (most recent call last)",
            "\u001b[0;32m<ipython-input-61-990e18a21884>\u001b[0m in \u001b[0;36m<module>\u001b[0;34m()\u001b[0m\n\u001b[0;32m----> 1\u001b[0;31m \u001b[0mtx\u001b[0m\u001b[0;34m.\u001b[0m\u001b[0mgroupby\u001b[0m\u001b[0;34m(\u001b[0m\u001b[0;34m[\u001b[0m\u001b[0;34m'addr'\u001b[0m\u001b[0;34m]\u001b[0m\u001b[0;34m)\u001b[0m\u001b[0;34m\u001b[0m\u001b[0;34m\u001b[0m\u001b[0m\n\u001b[0m",
            "\u001b[0;32m/usr/local/lib/python3.6/dist-packages/pandas/core/frame.py\u001b[0m in \u001b[0;36mgroupby\u001b[0;34m(self, by, axis, level, as_index, sort, group_keys, squeeze, observed)\u001b[0m\n\u001b[1;32m   5808\u001b[0m             \u001b[0mgroup_keys\u001b[0m\u001b[0;34m=\u001b[0m\u001b[0mgroup_keys\u001b[0m\u001b[0;34m,\u001b[0m\u001b[0;34m\u001b[0m\u001b[0;34m\u001b[0m\u001b[0m\n\u001b[1;32m   5809\u001b[0m             \u001b[0msqueeze\u001b[0m\u001b[0;34m=\u001b[0m\u001b[0msqueeze\u001b[0m\u001b[0;34m,\u001b[0m\u001b[0;34m\u001b[0m\u001b[0;34m\u001b[0m\u001b[0m\n\u001b[0;32m-> 5810\u001b[0;31m             \u001b[0mobserved\u001b[0m\u001b[0;34m=\u001b[0m\u001b[0mobserved\u001b[0m\u001b[0;34m,\u001b[0m\u001b[0;34m\u001b[0m\u001b[0;34m\u001b[0m\u001b[0m\n\u001b[0m\u001b[1;32m   5811\u001b[0m         )\n\u001b[1;32m   5812\u001b[0m \u001b[0;34m\u001b[0m\u001b[0m\n",
            "\u001b[0;32m/usr/local/lib/python3.6/dist-packages/pandas/core/groupby/groupby.py\u001b[0m in \u001b[0;36m__init__\u001b[0;34m(self, obj, keys, axis, level, grouper, exclusions, selection, as_index, sort, group_keys, squeeze, observed, mutated)\u001b[0m\n\u001b[1;32m    408\u001b[0m                 \u001b[0msort\u001b[0m\u001b[0;34m=\u001b[0m\u001b[0msort\u001b[0m\u001b[0;34m,\u001b[0m\u001b[0;34m\u001b[0m\u001b[0;34m\u001b[0m\u001b[0m\n\u001b[1;32m    409\u001b[0m                 \u001b[0mobserved\u001b[0m\u001b[0;34m=\u001b[0m\u001b[0mobserved\u001b[0m\u001b[0;34m,\u001b[0m\u001b[0;34m\u001b[0m\u001b[0;34m\u001b[0m\u001b[0m\n\u001b[0;32m--> 410\u001b[0;31m                 \u001b[0mmutated\u001b[0m\u001b[0;34m=\u001b[0m\u001b[0mself\u001b[0m\u001b[0;34m.\u001b[0m\u001b[0mmutated\u001b[0m\u001b[0;34m,\u001b[0m\u001b[0;34m\u001b[0m\u001b[0;34m\u001b[0m\u001b[0m\n\u001b[0m\u001b[1;32m    411\u001b[0m             )\n\u001b[1;32m    412\u001b[0m \u001b[0;34m\u001b[0m\u001b[0m\n",
            "\u001b[0;32m/usr/local/lib/python3.6/dist-packages/pandas/core/groupby/grouper.py\u001b[0m in \u001b[0;36mget_grouper\u001b[0;34m(obj, key, axis, level, sort, observed, mutated, validate)\u001b[0m\n\u001b[1;32m    598\u001b[0m                 \u001b[0min_axis\u001b[0m\u001b[0;34m,\u001b[0m \u001b[0mname\u001b[0m\u001b[0;34m,\u001b[0m \u001b[0mlevel\u001b[0m\u001b[0;34m,\u001b[0m \u001b[0mgpr\u001b[0m \u001b[0;34m=\u001b[0m \u001b[0;32mFalse\u001b[0m\u001b[0;34m,\u001b[0m \u001b[0;32mNone\u001b[0m\u001b[0;34m,\u001b[0m \u001b[0mgpr\u001b[0m\u001b[0;34m,\u001b[0m \u001b[0;32mNone\u001b[0m\u001b[0;34m\u001b[0m\u001b[0;34m\u001b[0m\u001b[0m\n\u001b[1;32m    599\u001b[0m             \u001b[0;32melse\u001b[0m\u001b[0;34m:\u001b[0m\u001b[0;34m\u001b[0m\u001b[0;34m\u001b[0m\u001b[0m\n\u001b[0;32m--> 600\u001b[0;31m                 \u001b[0;32mraise\u001b[0m \u001b[0mKeyError\u001b[0m\u001b[0;34m(\u001b[0m\u001b[0mgpr\u001b[0m\u001b[0;34m)\u001b[0m\u001b[0;34m\u001b[0m\u001b[0;34m\u001b[0m\u001b[0m\n\u001b[0m\u001b[1;32m    601\u001b[0m         \u001b[0;32melif\u001b[0m \u001b[0misinstance\u001b[0m\u001b[0;34m(\u001b[0m\u001b[0mgpr\u001b[0m\u001b[0;34m,\u001b[0m \u001b[0mGrouper\u001b[0m\u001b[0;34m)\u001b[0m \u001b[0;32mand\u001b[0m \u001b[0mgpr\u001b[0m\u001b[0;34m.\u001b[0m\u001b[0mkey\u001b[0m \u001b[0;32mis\u001b[0m \u001b[0;32mnot\u001b[0m \u001b[0;32mNone\u001b[0m\u001b[0;34m:\u001b[0m\u001b[0;34m\u001b[0m\u001b[0;34m\u001b[0m\u001b[0m\n\u001b[1;32m    602\u001b[0m             \u001b[0;31m# Add key to exclusions\u001b[0m\u001b[0;34m\u001b[0m\u001b[0;34m\u001b[0m\u001b[0;34m\u001b[0m\u001b[0m\n",
            "\u001b[0;31mKeyError\u001b[0m: 'addr'"
          ]
        }
      ]
    },
    {
      "cell_type": "markdown",
      "metadata": {
        "id": "Hx6Ld__6_S_P",
        "colab_type": "text"
      },
      "source": [
        ""
      ]
    },
    {
      "cell_type": "code",
      "metadata": {
        "id": "pgmqqJMP2clW",
        "colab_type": "code",
        "colab": {}
      },
      "source": [
        ""
      ],
      "execution_count": null,
      "outputs": []
    },
    {
      "cell_type": "markdown",
      "metadata": {
        "id": "5ThHlCn2DkVR",
        "colab_type": "text"
      },
      "source": [
        ""
      ]
    },
    {
      "cell_type": "code",
      "metadata": {
        "id": "Gh8dn8uTB2Cy",
        "colab_type": "code",
        "colab": {}
      },
      "source": [
        ""
      ],
      "execution_count": null,
      "outputs": []
    }
  ]
}