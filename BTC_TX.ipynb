{
  "nbformat": 4,
  "nbformat_minor": 0,
  "metadata": {
    "colab": {
      "name": "BTC_TX.ipynb",
      "provenance": [],
      "collapsed_sections": [],
      "include_colab_link": true
    },
    "kernelspec": {
      "name": "python3",
      "display_name": "Python 3"
    }
  },
  "cells": [
    {
      "cell_type": "markdown",
      "metadata": {
        "id": "view-in-github",
        "colab_type": "text"
      },
      "source": [
        "<a href=\"https://colab.research.google.com/github/ghluque/Analisis_BTC/blob/master/BTC_TX.ipynb\" target=\"_parent\"><img src=\"https://colab.research.google.com/assets/colab-badge.svg\" alt=\"Open In Colab\"/></a>"
      ]
    },
    {
      "cell_type": "markdown",
      "metadata": {
        "id": "5PxqpAP8LN-R",
        "colab_type": "text"
      },
      "source": [
        "## Leer transacciones de la blockchain"
      ]
    },
    {
      "cell_type": "code",
      "metadata": {
        "id": "Nivzmy2oLJ-2",
        "colab_type": "code",
        "colab": {}
      },
      "source": [
        "import pandas as pd\n",
        "import numpy as np\n",
        "\n",
        "import requests #U: leer de una url \n",
        "import json #U: leer json, PORQUE pandas solo lee json con forma de data frame!\n"
      ],
      "execution_count": 0,
      "outputs": []
    },
    {
      "cell_type": "code",
      "metadata": {
        "id": "6CLVVctALbDr",
        "colab_type": "code",
        "colab": {}
      },
      "source": [
        "block_url=\"https://blockchain.info/rawblock/0000000000000000000cfe48631b9dc8083201f7bda4deb5bc081e344d1a5913\""
      ],
      "execution_count": 0,
      "outputs": []
    },
    {
      "cell_type": "code",
      "metadata": {
        "id": "xoJTlxkhLehr",
        "colab_type": "code",
        "colab": {}
      },
      "source": [
        "block= json.loads(requests.get(block_url).text) #A: block es un diccionario de diccionarios y arrays"
      ],
      "execution_count": 0,
      "outputs": []
    },
    {
      "cell_type": "code",
      "metadata": {
        "id": "RnJaEUz8M_hL",
        "colab_type": "code",
        "outputId": "10df1b61-a96e-412e-e0e4-669125214092",
        "colab": {
          "base_uri": "https://localhost:8080/",
          "height": 1000
        }
      },
      "source": [
        "block['tx'][2:4] #A: las transacciones 2 a 4, que propiedades tienen?"
      ],
      "execution_count": 0,
      "outputs": [
        {
          "output_type": "execute_result",
          "data": {
            "text/plain": [
              "[{'balance': 0,\n",
              "  'block_height': 619002,\n",
              "  'block_index': 0,\n",
              "  'double_spend': False,\n",
              "  'fee': 100000,\n",
              "  'hash': '12565431a8f14cc4e65767b76914969474652fa0b69b02e8fcf177f977e9e5d7',\n",
              "  'inputs': [{'index': 0,\n",
              "    'prev_out': {'addr': '17A16QmavnUfCW11DAApiJxp7ARnxN5pGX',\n",
              "     'n': 2,\n",
              "     'script': '76a91443849383122ebb8a28268a89700c9f723663b5b888ac',\n",
              "     'spending_outpoints': [{'n': 0, 'tx_index': 0}],\n",
              "     'spent': True,\n",
              "     'tx_index': 0,\n",
              "     'type': 0,\n",
              "     'value': 253537196},\n",
              "    'script': '483045022100d981306e2cb0ef59167c408d3dbd81e81af36e9e105ccbf0d110b3d8af39c6f50220246b4e8e7e36be43148778ea6fb8658728535fcdc31503fb821d083f71654d9d0141047146f0e0fcb3139947cf0beb870fe251930ca10d4545793d31033e801b5219abf56c11a3cf3406ca590e4c14b0dab749d20862b3adc4709153c280c2a78be10c',\n",
              "    'sequence': 4294967295,\n",
              "    'witness': ''}],\n",
              "  'lock_time': 0,\n",
              "  'out': [{'addr': '325kjwqJKbcCnJ2LhjqmmeXaPhYiTZ1EFN',\n",
              "    'n': 0,\n",
              "    'script': 'a914044ce4aa9472b406557ae47b52b98d098dc29d7a87',\n",
              "    'spending_outpoints': [{'n': 1, 'tx_index': 0}],\n",
              "    'spent': True,\n",
              "    'tx_index': 0,\n",
              "    'type': 0,\n",
              "    'value': 1180000},\n",
              "   {'addr': '3QpqVNmWrjLMYQZurdTmVywisbqXUuMc6i',\n",
              "    'n': 1,\n",
              "    'script': 'a914fdc582cb9dd1fea5dbd3eb8a3054354baf8e574d87',\n",
              "    'spending_outpoints': [],\n",
              "    'spent': False,\n",
              "    'tx_index': 0,\n",
              "    'type': 0,\n",
              "    'value': 7125764},\n",
              "   {'addr': '17A16QmavnUfCW11DAApiJxp7ARnxN5pGX',\n",
              "    'n': 2,\n",
              "    'script': '76a91443849383122ebb8a28268a89700c9f723663b5b888ac',\n",
              "    'spending_outpoints': [{'n': 0, 'tx_index': 0}],\n",
              "    'spent': True,\n",
              "    'tx_index': 0,\n",
              "    'type': 0,\n",
              "    'value': 245131432}],\n",
              "  'relayed_by': '127.0.0.1',\n",
              "  'result': 0,\n",
              "  'size': 288,\n",
              "  'time': 1582674382,\n",
              "  'tx_index': 0,\n",
              "  'ver': 2,\n",
              "  'vin_sz': 1,\n",
              "  'vout_sz': 3,\n",
              "  'weight': 1152},\n",
              " {'balance': 0,\n",
              "  'block_height': 619002,\n",
              "  'block_index': 0,\n",
              "  'double_spend': False,\n",
              "  'fee': 100000,\n",
              "  'hash': '0f24da007c306726713906933e0e171800290cbf5e30471d225fa185e5d0cb11',\n",
              "  'inputs': [{'index': 0,\n",
              "    'prev_out': {'addr': '17A16QmavnUfCW11DAApiJxp7ARnxN5pGX',\n",
              "     'n': 2,\n",
              "     'script': '76a91443849383122ebb8a28268a89700c9f723663b5b888ac',\n",
              "     'spending_outpoints': [{'n': 0, 'tx_index': 0}],\n",
              "     'spent': True,\n",
              "     'tx_index': 0,\n",
              "     'type': 0,\n",
              "     'value': 245131432},\n",
              "    'script': '47304402207a65740f35fe67665d96a3dcd4e2c71db4d7fcf1b36fe05e93d6e1ddaa7f87b2022056bc25cd811f501bdfa31130bb67425afa9942233d7cc5d06f1ae0e67f97bf540141047146f0e0fcb3139947cf0beb870fe251930ca10d4545793d31033e801b5219abf56c11a3cf3406ca590e4c14b0dab749d20862b3adc4709153c280c2a78be10c',\n",
              "    'sequence': 4294967295,\n",
              "    'witness': ''}],\n",
              "  'lock_time': 0,\n",
              "  'out': [{'addr': '36dU41SRYdgmiLBUkTCFfrBiNDh4kQDMm4',\n",
              "    'n': 0,\n",
              "    'script': 'a914362cc6b5dacaa489de53260715d629e41bdbfaaf87',\n",
              "    'spending_outpoints': [{'n': 4, 'tx_index': 0}],\n",
              "    'spent': True,\n",
              "    'tx_index': 0,\n",
              "    'type': 0,\n",
              "    'value': 7875000},\n",
              "   {'addr': '16jTJtmajxr9tgK5JgcK1ntAWrSyrWPAjN',\n",
              "    'n': 1,\n",
              "    'script': '76a9143ee00f7f642dbd05796a917418e74ccb631a69bf88ac',\n",
              "    'spending_outpoints': [{'n': 4, 'tx_index': 0}],\n",
              "    'spent': True,\n",
              "    'tx_index': 0,\n",
              "    'type': 0,\n",
              "    'value': 9994323},\n",
              "   {'addr': '17A16QmavnUfCW11DAApiJxp7ARnxN5pGX',\n",
              "    'n': 2,\n",
              "    'script': '76a91443849383122ebb8a28268a89700c9f723663b5b888ac',\n",
              "    'spending_outpoints': [{'n': 0, 'tx_index': 0}],\n",
              "    'spent': True,\n",
              "    'tx_index': 0,\n",
              "    'type': 0,\n",
              "    'value': 227162109}],\n",
              "  'relayed_by': '127.0.0.1',\n",
              "  'result': 0,\n",
              "  'size': 289,\n",
              "  'time': 1582674945,\n",
              "  'tx_index': 0,\n",
              "  'ver': 2,\n",
              "  'vin_sz': 1,\n",
              "  'vout_sz': 3,\n",
              "  'weight': 1156}]"
            ]
          },
          "metadata": {
            "tags": []
          },
          "execution_count": 8
        }
      ]
    },
    {
      "cell_type": "code",
      "metadata": {
        "id": "hf-wtSoyODkV",
        "colab_type": "code",
        "colab": {}
      },
      "source": [
        "IN_CNT_MAX=5 #U: maximo de inputs por tx\n",
        "OUT_CNT_MAX=5 #U: maximo de outputs por tx\n",
        "Tx_keys= ['hash','time']\n",
        "Tx_normalized_cols= Tx_keys + ['i'+str(n)+'v' for n in range(0,IN_CNT_MAX)] + ['o'+str(n)+'v' for n in range(0,OUT_CNT_MAX)]\n",
        "def pad_list(l,desiredLen):\n",
        "  \"\"\"Agrega 0 a la lista hasta alcanzar desiredLen\"\"\"\n",
        "  return l + [0] * (desiredLen-len(l)) if len(l)<desiredLen else l[0:desiredLen]\n",
        "\n",
        "def tx_in_normalized(tx):\n",
        "  return [(x['prev_out']['value'] if 'prev_out' in x else 0) for x in tx['inputs']]\n",
        "\n",
        "def tx_out_normalized(tx):\n",
        "  return [x['value'] for x in tx['out']]\n",
        "\n",
        "def tx_normalized(tx):\n",
        "  \"\"\"Devuelve una tx de la blockchain como una lista con hash, value para 5 inputs, value 5 outputs\"\"\"\n",
        "  return [tx[k] for k in Tx_keys] + pad_list(tx_in_normalized(tx),IN_CNT_MAX) + pad_list(tx_out_normalized(tx),OUT_CNT_MAX)"
      ],
      "execution_count": 0,
      "outputs": []
    },
    {
      "cell_type": "code",
      "metadata": {
        "id": "WZ42-XfpOYlE",
        "colab_type": "code",
        "outputId": "99c5d328-bda2-4a38-a415-256016cf51ec",
        "colab": {
          "base_uri": "https://localhost:8080/",
          "height": 293
        }
      },
      "source": [
        "tx= pd.DataFrame( [ tx_normalized(tx) for tx in block['tx'] ], columns= Tx_normalized_cols)\n",
        "#A: normalizamos nuestro bloque para que tenga forma de tabla y creamos un dataframe\n",
        "tx.time= pd.to_datetime(tx.time, unit='s') #A: convertimos el time del bloque en un datetime\n",
        "\n",
        "tx.head()\n"
      ],
      "execution_count": 0,
      "outputs": [
        {
          "output_type": "execute_result",
          "data": {
            "text/html": [
              "<div>\n",
              "<style scoped>\n",
              "    .dataframe tbody tr th:only-of-type {\n",
              "        vertical-align: middle;\n",
              "    }\n",
              "\n",
              "    .dataframe tbody tr th {\n",
              "        vertical-align: top;\n",
              "    }\n",
              "\n",
              "    .dataframe thead th {\n",
              "        text-align: right;\n",
              "    }\n",
              "</style>\n",
              "<table border=\"1\" class=\"dataframe\">\n",
              "  <thead>\n",
              "    <tr style=\"text-align: right;\">\n",
              "      <th></th>\n",
              "      <th>hash</th>\n",
              "      <th>time</th>\n",
              "      <th>i0v</th>\n",
              "      <th>i1v</th>\n",
              "      <th>i2v</th>\n",
              "      <th>i3v</th>\n",
              "      <th>i4v</th>\n",
              "      <th>o0v</th>\n",
              "      <th>o1v</th>\n",
              "      <th>o2v</th>\n",
              "      <th>o3v</th>\n",
              "      <th>o4v</th>\n",
              "    </tr>\n",
              "  </thead>\n",
              "  <tbody>\n",
              "    <tr>\n",
              "      <th>0</th>\n",
              "      <td>bfcc1c233827fbf147b9744b58844465abf61232c02fb2...</td>\n",
              "      <td>2020-02-26 00:10:06</td>\n",
              "      <td>0</td>\n",
              "      <td>0</td>\n",
              "      <td>0</td>\n",
              "      <td>0</td>\n",
              "      <td>0</td>\n",
              "      <td>1276409435</td>\n",
              "      <td>0</td>\n",
              "      <td>0</td>\n",
              "      <td>0</td>\n",
              "      <td>0</td>\n",
              "    </tr>\n",
              "    <tr>\n",
              "      <th>1</th>\n",
              "      <td>8325d3decbb805e09f042fc946bc61076be3578af331b1...</td>\n",
              "      <td>2020-02-25 23:55:16</td>\n",
              "      <td>50000000000</td>\n",
              "      <td>0</td>\n",
              "      <td>0</td>\n",
              "      <td>0</td>\n",
              "      <td>0</td>\n",
              "      <td>5100000000</td>\n",
              "      <td>44899916000</td>\n",
              "      <td>0</td>\n",
              "      <td>0</td>\n",
              "      <td>0</td>\n",
              "    </tr>\n",
              "    <tr>\n",
              "      <th>2</th>\n",
              "      <td>12565431a8f14cc4e65767b76914969474652fa0b69b02...</td>\n",
              "      <td>2020-02-25 23:46:22</td>\n",
              "      <td>253537196</td>\n",
              "      <td>0</td>\n",
              "      <td>0</td>\n",
              "      <td>0</td>\n",
              "      <td>0</td>\n",
              "      <td>1180000</td>\n",
              "      <td>7125764</td>\n",
              "      <td>245131432</td>\n",
              "      <td>0</td>\n",
              "      <td>0</td>\n",
              "    </tr>\n",
              "    <tr>\n",
              "      <th>3</th>\n",
              "      <td>0f24da007c306726713906933e0e171800290cbf5e3047...</td>\n",
              "      <td>2020-02-25 23:55:45</td>\n",
              "      <td>245131432</td>\n",
              "      <td>0</td>\n",
              "      <td>0</td>\n",
              "      <td>0</td>\n",
              "      <td>0</td>\n",
              "      <td>7875000</td>\n",
              "      <td>9994323</td>\n",
              "      <td>227162109</td>\n",
              "      <td>0</td>\n",
              "      <td>0</td>\n",
              "    </tr>\n",
              "    <tr>\n",
              "      <th>4</th>\n",
              "      <td>9491757c01ab9c01eb03d6db97e4feba4c4675bf6dd803...</td>\n",
              "      <td>2020-02-26 00:08:50</td>\n",
              "      <td>777883277</td>\n",
              "      <td>0</td>\n",
              "      <td>0</td>\n",
              "      <td>0</td>\n",
              "      <td>0</td>\n",
              "      <td>10700520</td>\n",
              "      <td>767132657</td>\n",
              "      <td>0</td>\n",
              "      <td>0</td>\n",
              "      <td>0</td>\n",
              "    </tr>\n",
              "  </tbody>\n",
              "</table>\n",
              "</div>"
            ],
            "text/plain": [
              "                                                hash  ... o4v\n",
              "0  bfcc1c233827fbf147b9744b58844465abf61232c02fb2...  ...   0\n",
              "1  8325d3decbb805e09f042fc946bc61076be3578af331b1...  ...   0\n",
              "2  12565431a8f14cc4e65767b76914969474652fa0b69b02...  ...   0\n",
              "3  0f24da007c306726713906933e0e171800290cbf5e3047...  ...   0\n",
              "4  9491757c01ab9c01eb03d6db97e4feba4c4675bf6dd803...  ...   0\n",
              "\n",
              "[5 rows x 12 columns]"
            ]
          },
          "metadata": {
            "tags": []
          },
          "execution_count": 6
        }
      ]
    },
    {
      "cell_type": "code",
      "metadata": {
        "id": "bvrK1bpcPwSV",
        "colab_type": "code",
        "outputId": "30f6ae29-4f18-4854-c187-75757d8c7c67",
        "colab": {
          "base_uri": "https://localhost:8080/",
          "height": 69
        }
      },
      "source": [
        "#OjO! de los outputs uno suele ser el fee, y otro suele ser al mismo dueño de la billetera que paga ... \n",
        "# porque si en una tx anterior compre 3btc y te quiero pagar 1btc,\n",
        "# mando 1btc a tu billetera, y 2 a la mia de nuevo (el vuelto)\n",
        "# por ej.\n",
        "print(\"Direccion anterior {}\\nEl vuelto va a {}\\n\",[ block['tx'][2]['inputs'][0]['prev_out']['addr'], block['tx'][2]['out'][2]['addr'] ])\n"
      ],
      "execution_count": 0,
      "outputs": [
        {
          "output_type": "stream",
          "text": [
            "Direccion anterior {}\n",
            "El vuelto va a {}\n",
            " ['17A16QmavnUfCW11DAApiJxp7ARnxN5pGX', '17A16QmavnUfCW11DAApiJxp7ARnxN5pGX']\n"
          ],
          "name": "stdout"
        }
      ]
    },
    {
      "cell_type": "code",
      "metadata": {
        "id": "aHHDaCL2W8nN",
        "colab_type": "code",
        "colab": {}
      },
      "source": [
        ""
      ],
      "execution_count": 0,
      "outputs": []
    }
  ]
}