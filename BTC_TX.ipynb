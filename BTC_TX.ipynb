{
  "nbformat": 4,
  "nbformat_minor": 0,
  "metadata": {
    "colab": {
      "name": "Copia de BTC_TX.ipynb",
      "provenance": [],
      "collapsed_sections": [],
      "include_colab_link": true
    },
    "kernelspec": {
      "name": "python3",
      "display_name": "Python 3"
    }
  },
  "cells": [
    {
      "cell_type": "markdown",
      "metadata": {
        "id": "view-in-github",
        "colab_type": "text"
      },
      "source": [
        "<a href=\"https://colab.research.google.com/github/ghluque/Analisis_BTC/blob/master/BTC_TX.ipynb\" target=\"_parent\"><img src=\"https://colab.research.google.com/assets/colab-badge.svg\" alt=\"Open In Colab\"/></a>"
      ]
    },
    {
      "cell_type": "markdown",
      "metadata": {
        "id": "5PxqpAP8LN-R",
        "colab_type": "text"
      },
      "source": [
        "## Leer transacciones de la blockchain"
      ]
    },
    {
      "cell_type": "code",
      "metadata": {
        "id": "Nivzmy2oLJ-2",
        "colab_type": "code",
        "colab": {}
      },
      "source": [
        "import pandas as pd\n",
        "import numpy as np\n",
        "\n",
        "import requests #U: leer de una url \n",
        "import json #U: leer json, PORQUE pandas solo lee json con forma de data frame!\n"
      ],
      "execution_count": 50,
      "outputs": []
    },
    {
      "cell_type": "code",
      "metadata": {
        "id": "6CLVVctALbDr",
        "colab_type": "code",
        "colab": {}
      },
      "source": [
        "block_url=\"https://blockchain.info/rawblock/0000000000000000000cfe48631b9dc8083201f7bda4deb5bc081e344d1a5913\""
      ],
      "execution_count": 51,
      "outputs": []
    },
    {
      "cell_type": "code",
      "metadata": {
        "id": "xoJTlxkhLehr",
        "colab_type": "code",
        "colab": {}
      },
      "source": [
        "block= json.loads(requests.get(block_url).text) #A: block es un diccionario de diccionarios y arrays"
      ],
      "execution_count": 52,
      "outputs": []
    },
    {
      "cell_type": "code",
      "metadata": {
        "id": "RnJaEUz8M_hL",
        "colab_type": "code",
        "colab": {
          "base_uri": "https://localhost:8080/",
          "height": 921
        },
        "outputId": "569e489c-cd11-4fe2-de0c-4c20f10900c7"
      },
      "source": [
        "block['tx'][2] #A: las transacciones 2 a 4, que propiedades tienen?"
      ],
      "execution_count": 53,
      "outputs": [
        {
          "output_type": "execute_result",
          "data": {
            "text/plain": [
              "{'balance': 0,\n",
              " 'block_height': 619002,\n",
              " 'block_index': 0,\n",
              " 'double_spend': False,\n",
              " 'fee': 100000,\n",
              " 'hash': '12565431a8f14cc4e65767b76914969474652fa0b69b02e8fcf177f977e9e5d7',\n",
              " 'inputs': [{'index': 0,\n",
              "   'prev_out': {'addr': '17A16QmavnUfCW11DAApiJxp7ARnxN5pGX',\n",
              "    'n': 2,\n",
              "    'script': '76a91443849383122ebb8a28268a89700c9f723663b5b888ac',\n",
              "    'spending_outpoints': [{'n': 0, 'tx_index': 0}],\n",
              "    'spent': True,\n",
              "    'tx_index': 0,\n",
              "    'type': 0,\n",
              "    'value': 253537196},\n",
              "   'script': '483045022100d981306e2cb0ef59167c408d3dbd81e81af36e9e105ccbf0d110b3d8af39c6f50220246b4e8e7e36be43148778ea6fb8658728535fcdc31503fb821d083f71654d9d0141047146f0e0fcb3139947cf0beb870fe251930ca10d4545793d31033e801b5219abf56c11a3cf3406ca590e4c14b0dab749d20862b3adc4709153c280c2a78be10c',\n",
              "   'sequence': 4294967295,\n",
              "   'witness': ''}],\n",
              " 'lock_time': 0,\n",
              " 'out': [{'addr': '325kjwqJKbcCnJ2LhjqmmeXaPhYiTZ1EFN',\n",
              "   'n': 0,\n",
              "   'script': 'a914044ce4aa9472b406557ae47b52b98d098dc29d7a87',\n",
              "   'spending_outpoints': [{'n': 1, 'tx_index': 0}],\n",
              "   'spent': True,\n",
              "   'tx_index': 0,\n",
              "   'type': 0,\n",
              "   'value': 1180000},\n",
              "  {'addr': '3QpqVNmWrjLMYQZurdTmVywisbqXUuMc6i',\n",
              "   'n': 1,\n",
              "   'script': 'a914fdc582cb9dd1fea5dbd3eb8a3054354baf8e574d87',\n",
              "   'spending_outpoints': [],\n",
              "   'spent': False,\n",
              "   'tx_index': 0,\n",
              "   'type': 0,\n",
              "   'value': 7125764},\n",
              "  {'addr': '17A16QmavnUfCW11DAApiJxp7ARnxN5pGX',\n",
              "   'n': 2,\n",
              "   'script': '76a91443849383122ebb8a28268a89700c9f723663b5b888ac',\n",
              "   'spending_outpoints': [{'n': 0, 'tx_index': 0}],\n",
              "   'spent': True,\n",
              "   'tx_index': 0,\n",
              "   'type': 0,\n",
              "   'value': 245131432}],\n",
              " 'relayed_by': '127.0.0.1',\n",
              " 'result': 0,\n",
              " 'size': 288,\n",
              " 'time': 1582675806,\n",
              " 'tx_index': 0,\n",
              " 'ver': 2,\n",
              " 'vin_sz': 1,\n",
              " 'vout_sz': 3,\n",
              " 'weight': 1152}"
            ]
          },
          "metadata": {
            "tags": []
          },
          "execution_count": 53
        }
      ]
    },
    {
      "cell_type": "code",
      "metadata": {
        "id": "hf-wtSoyODkV",
        "colab_type": "code",
        "colab": {}
      },
      "source": [
        "IN_CNT_MAX=5 #U: maximo de inputs por tx\n",
        "OUT_CNT_MAX=5 #U: maximo de outputs por tx\n",
        "Tx_keys= ['hash','time']\n",
        "Tx_normalized_cols= Tx_keys + ['i'+str(n)+'v' for n in range(0,IN_CNT_MAX)] + ['o'+str(n)+'v' for n in range(0,OUT_CNT_MAX)]\n",
        "def pad_list(l,desiredLen):\n",
        "  \"\"\"Agrega 0 a la lista hasta alcanzar desiredLen\"\"\"\n",
        "  return l + [0] * (desiredLen-len(l)) if len(l)<desiredLen else l[0:desiredLen]\n",
        "\n",
        "def tx_in_normalized(tx):\n",
        "  return [(x['prev_out']['value'] if 'prev_out' in x else 0) for x in tx['inputs']]\n",
        "\n",
        "def tx_out_normalized(tx):\n",
        "  return [x['value'] for x in tx['out']]\n",
        "\n",
        "def tx_normalized(tx):\n",
        "  \"\"\"Devuelve una tx de la blockchain como una lista con hash, value para 5 inputs, value 5 outputs\"\"\"\n",
        "  return [tx[k] for k in Tx_keys] + pad_list(tx_in_normalized(tx),IN_CNT_MAX) + pad_list(tx_out_normalized(tx),OUT_CNT_MAX)"
      ],
      "execution_count": 54,
      "outputs": []
    },
    {
      "cell_type": "code",
      "metadata": {
        "id": "WZ42-XfpOYlE",
        "colab_type": "code",
        "colab": {
          "base_uri": "https://localhost:8080/",
          "height": 204
        },
        "outputId": "248a7a41-0f51-465e-b0db-6f34bf6fff95"
      },
      "source": [
        "tx= pd.DataFrame( [ tx_normalized(tx) for tx in block['tx'] ], columns= Tx_normalized_cols)\n",
        "#A: normalizamos nuestro bloque para que tenga forma de tabla y creamos un dataframe\n",
        "tx.time= pd.to_datetime(tx.time, unit='s') #A: convertimos el time del bloque en un datetime\n",
        "\n",
        "tx.head()\n"
      ],
      "execution_count": 55,
      "outputs": [
        {
          "output_type": "execute_result",
          "data": {
            "text/html": [
              "<div>\n",
              "<style scoped>\n",
              "    .dataframe tbody tr th:only-of-type {\n",
              "        vertical-align: middle;\n",
              "    }\n",
              "\n",
              "    .dataframe tbody tr th {\n",
              "        vertical-align: top;\n",
              "    }\n",
              "\n",
              "    .dataframe thead th {\n",
              "        text-align: right;\n",
              "    }\n",
              "</style>\n",
              "<table border=\"1\" class=\"dataframe\">\n",
              "  <thead>\n",
              "    <tr style=\"text-align: right;\">\n",
              "      <th></th>\n",
              "      <th>hash</th>\n",
              "      <th>time</th>\n",
              "      <th>i0v</th>\n",
              "      <th>i1v</th>\n",
              "      <th>i2v</th>\n",
              "      <th>i3v</th>\n",
              "      <th>i4v</th>\n",
              "      <th>o0v</th>\n",
              "      <th>o1v</th>\n",
              "      <th>o2v</th>\n",
              "      <th>o3v</th>\n",
              "      <th>o4v</th>\n",
              "    </tr>\n",
              "  </thead>\n",
              "  <tbody>\n",
              "    <tr>\n",
              "      <th>0</th>\n",
              "      <td>bfcc1c233827fbf147b9744b58844465abf61232c02fb2...</td>\n",
              "      <td>2020-02-26 00:10:06</td>\n",
              "      <td>0</td>\n",
              "      <td>0</td>\n",
              "      <td>0</td>\n",
              "      <td>0</td>\n",
              "      <td>0</td>\n",
              "      <td>1276409435</td>\n",
              "      <td>0</td>\n",
              "      <td>0</td>\n",
              "      <td>0</td>\n",
              "      <td>0</td>\n",
              "    </tr>\n",
              "    <tr>\n",
              "      <th>1</th>\n",
              "      <td>8325d3decbb805e09f042fc946bc61076be3578af331b1...</td>\n",
              "      <td>2020-02-26 00:10:06</td>\n",
              "      <td>50000000000</td>\n",
              "      <td>0</td>\n",
              "      <td>0</td>\n",
              "      <td>0</td>\n",
              "      <td>0</td>\n",
              "      <td>5100000000</td>\n",
              "      <td>44899916000</td>\n",
              "      <td>0</td>\n",
              "      <td>0</td>\n",
              "      <td>0</td>\n",
              "    </tr>\n",
              "    <tr>\n",
              "      <th>2</th>\n",
              "      <td>12565431a8f14cc4e65767b76914969474652fa0b69b02...</td>\n",
              "      <td>2020-02-26 00:10:06</td>\n",
              "      <td>253537196</td>\n",
              "      <td>0</td>\n",
              "      <td>0</td>\n",
              "      <td>0</td>\n",
              "      <td>0</td>\n",
              "      <td>1180000</td>\n",
              "      <td>7125764</td>\n",
              "      <td>245131432</td>\n",
              "      <td>0</td>\n",
              "      <td>0</td>\n",
              "    </tr>\n",
              "    <tr>\n",
              "      <th>3</th>\n",
              "      <td>0f24da007c306726713906933e0e171800290cbf5e3047...</td>\n",
              "      <td>2020-02-26 00:10:06</td>\n",
              "      <td>245131432</td>\n",
              "      <td>0</td>\n",
              "      <td>0</td>\n",
              "      <td>0</td>\n",
              "      <td>0</td>\n",
              "      <td>7875000</td>\n",
              "      <td>9994323</td>\n",
              "      <td>227162109</td>\n",
              "      <td>0</td>\n",
              "      <td>0</td>\n",
              "    </tr>\n",
              "    <tr>\n",
              "      <th>4</th>\n",
              "      <td>9491757c01ab9c01eb03d6db97e4feba4c4675bf6dd803...</td>\n",
              "      <td>2020-02-26 00:10:06</td>\n",
              "      <td>777883277</td>\n",
              "      <td>0</td>\n",
              "      <td>0</td>\n",
              "      <td>0</td>\n",
              "      <td>0</td>\n",
              "      <td>10700520</td>\n",
              "      <td>767132657</td>\n",
              "      <td>0</td>\n",
              "      <td>0</td>\n",
              "      <td>0</td>\n",
              "    </tr>\n",
              "  </tbody>\n",
              "</table>\n",
              "</div>"
            ],
            "text/plain": [
              "                                                hash  ... o4v\n",
              "0  bfcc1c233827fbf147b9744b58844465abf61232c02fb2...  ...   0\n",
              "1  8325d3decbb805e09f042fc946bc61076be3578af331b1...  ...   0\n",
              "2  12565431a8f14cc4e65767b76914969474652fa0b69b02...  ...   0\n",
              "3  0f24da007c306726713906933e0e171800290cbf5e3047...  ...   0\n",
              "4  9491757c01ab9c01eb03d6db97e4feba4c4675bf6dd803...  ...   0\n",
              "\n",
              "[5 rows x 12 columns]"
            ]
          },
          "metadata": {
            "tags": []
          },
          "execution_count": 55
        }
      ]
    },
    {
      "cell_type": "code",
      "metadata": {
        "id": "bvrK1bpcPwSV",
        "colab_type": "code",
        "colab": {
          "base_uri": "https://localhost:8080/",
          "height": 68
        },
        "outputId": "dc4db941-c849-4bc1-e5b0-9a16b50ced9e"
      },
      "source": [
        "#OjO! de los outputs uno suele ser el fee, y otro suele ser al mismo dueño de la billetera que paga ... \n",
        "# porque si en una tx anterior compre 3btc y te quiero pagar 1btc,\n",
        "# mando 1btc a tu billetera, y 2 a la mia de nuevo (el vuelto)\n",
        "# por ej.\n",
        "print(\"Direccion anterior {}\\nEl vuelto va a {}\\n\",[ block['tx'][2]['inputs'][0]['prev_out']['addr'], block['tx'][2]['out'][2]['addr'] ])\n"
      ],
      "execution_count": 56,
      "outputs": [
        {
          "output_type": "stream",
          "text": [
            "Direccion anterior {}\n",
            "El vuelto va a {}\n",
            " ['17A16QmavnUfCW11DAApiJxp7ARnxN5pGX', '17A16QmavnUfCW11DAApiJxp7ARnxN5pGX']\n"
          ],
          "name": "stdout"
        }
      ]
    },
    {
      "cell_type": "markdown",
      "metadata": {
        "id": "tpRaeVzWYRab",
        "colab_type": "text"
      },
      "source": [
        "Para saber cuantas columnas y filas tiene nuestro df\n"
      ]
    },
    {
      "cell_type": "markdown",
      "metadata": {
        "id": "6ez5-6bRrJ1W",
        "colab_type": "text"
      },
      "source": [
        "Los numeros del df anterior estaban en \"satoshis\" que son la millonesima parte de 1 btc. Entonces procedemos a dividir por /1000000 para obtener numeros mas legibles"
      ]
    },
    {
      "cell_type": "code",
      "metadata": {
        "id": "8TRzE5b8pS_Z",
        "colab_type": "code",
        "colab": {}
      },
      "source": [
        "#imputs\n",
        "tx['i0v'] /= 1000000\n",
        "tx['i1v'] /= 1000000\n",
        "tx['i2v'] /= 1000000\n",
        "tx['i3v'] /= 1000000\n",
        "tx['i4v'] /= 1000000\n",
        "\n",
        "\n",
        "#outputs\n",
        "tx['o0v'] /= 1000000\n",
        "tx['o1v'] /= 1000000\n",
        "tx['o2v'] /= 1000000\n",
        "tx['o3v'] /= 1000000\n",
        "tx['o4v'] /= 1000000\n",
        "\n"
      ],
      "execution_count": 57,
      "outputs": []
    },
    {
      "cell_type": "code",
      "metadata": {
        "id": "Kykgg0a-nQdD",
        "colab_type": "code",
        "colab": {
          "base_uri": "https://localhost:8080/",
          "height": 204
        },
        "outputId": "a4202dde-a218-4c78-c78d-ec7f571cdd89"
      },
      "source": [
        "tx.head()"
      ],
      "execution_count": 58,
      "outputs": [
        {
          "output_type": "execute_result",
          "data": {
            "text/html": [
              "<div>\n",
              "<style scoped>\n",
              "    .dataframe tbody tr th:only-of-type {\n",
              "        vertical-align: middle;\n",
              "    }\n",
              "\n",
              "    .dataframe tbody tr th {\n",
              "        vertical-align: top;\n",
              "    }\n",
              "\n",
              "    .dataframe thead th {\n",
              "        text-align: right;\n",
              "    }\n",
              "</style>\n",
              "<table border=\"1\" class=\"dataframe\">\n",
              "  <thead>\n",
              "    <tr style=\"text-align: right;\">\n",
              "      <th></th>\n",
              "      <th>hash</th>\n",
              "      <th>time</th>\n",
              "      <th>i0v</th>\n",
              "      <th>i1v</th>\n",
              "      <th>i2v</th>\n",
              "      <th>i3v</th>\n",
              "      <th>i4v</th>\n",
              "      <th>o0v</th>\n",
              "      <th>o1v</th>\n",
              "      <th>o2v</th>\n",
              "      <th>o3v</th>\n",
              "      <th>o4v</th>\n",
              "    </tr>\n",
              "  </thead>\n",
              "  <tbody>\n",
              "    <tr>\n",
              "      <th>0</th>\n",
              "      <td>bfcc1c233827fbf147b9744b58844465abf61232c02fb2...</td>\n",
              "      <td>2020-02-26 00:10:06</td>\n",
              "      <td>0.000000</td>\n",
              "      <td>0.0</td>\n",
              "      <td>0.0</td>\n",
              "      <td>0.0</td>\n",
              "      <td>0.0</td>\n",
              "      <td>1276.409435</td>\n",
              "      <td>0.000000</td>\n",
              "      <td>0.000000</td>\n",
              "      <td>0.0</td>\n",
              "      <td>0.0</td>\n",
              "    </tr>\n",
              "    <tr>\n",
              "      <th>1</th>\n",
              "      <td>8325d3decbb805e09f042fc946bc61076be3578af331b1...</td>\n",
              "      <td>2020-02-26 00:10:06</td>\n",
              "      <td>50000.000000</td>\n",
              "      <td>0.0</td>\n",
              "      <td>0.0</td>\n",
              "      <td>0.0</td>\n",
              "      <td>0.0</td>\n",
              "      <td>5100.000000</td>\n",
              "      <td>44899.916000</td>\n",
              "      <td>0.000000</td>\n",
              "      <td>0.0</td>\n",
              "      <td>0.0</td>\n",
              "    </tr>\n",
              "    <tr>\n",
              "      <th>2</th>\n",
              "      <td>12565431a8f14cc4e65767b76914969474652fa0b69b02...</td>\n",
              "      <td>2020-02-26 00:10:06</td>\n",
              "      <td>253.537196</td>\n",
              "      <td>0.0</td>\n",
              "      <td>0.0</td>\n",
              "      <td>0.0</td>\n",
              "      <td>0.0</td>\n",
              "      <td>1.180000</td>\n",
              "      <td>7.125764</td>\n",
              "      <td>245.131432</td>\n",
              "      <td>0.0</td>\n",
              "      <td>0.0</td>\n",
              "    </tr>\n",
              "    <tr>\n",
              "      <th>3</th>\n",
              "      <td>0f24da007c306726713906933e0e171800290cbf5e3047...</td>\n",
              "      <td>2020-02-26 00:10:06</td>\n",
              "      <td>245.131432</td>\n",
              "      <td>0.0</td>\n",
              "      <td>0.0</td>\n",
              "      <td>0.0</td>\n",
              "      <td>0.0</td>\n",
              "      <td>7.875000</td>\n",
              "      <td>9.994323</td>\n",
              "      <td>227.162109</td>\n",
              "      <td>0.0</td>\n",
              "      <td>0.0</td>\n",
              "    </tr>\n",
              "    <tr>\n",
              "      <th>4</th>\n",
              "      <td>9491757c01ab9c01eb03d6db97e4feba4c4675bf6dd803...</td>\n",
              "      <td>2020-02-26 00:10:06</td>\n",
              "      <td>777.883277</td>\n",
              "      <td>0.0</td>\n",
              "      <td>0.0</td>\n",
              "      <td>0.0</td>\n",
              "      <td>0.0</td>\n",
              "      <td>10.700520</td>\n",
              "      <td>767.132657</td>\n",
              "      <td>0.000000</td>\n",
              "      <td>0.0</td>\n",
              "      <td>0.0</td>\n",
              "    </tr>\n",
              "  </tbody>\n",
              "</table>\n",
              "</div>"
            ],
            "text/plain": [
              "                                                hash  ...  o4v\n",
              "0  bfcc1c233827fbf147b9744b58844465abf61232c02fb2...  ...  0.0\n",
              "1  8325d3decbb805e09f042fc946bc61076be3578af331b1...  ...  0.0\n",
              "2  12565431a8f14cc4e65767b76914969474652fa0b69b02...  ...  0.0\n",
              "3  0f24da007c306726713906933e0e171800290cbf5e3047...  ...  0.0\n",
              "4  9491757c01ab9c01eb03d6db97e4feba4c4675bf6dd803...  ...  0.0\n",
              "\n",
              "[5 rows x 12 columns]"
            ]
          },
          "metadata": {
            "tags": []
          },
          "execution_count": 58
        }
      ]
    },
    {
      "cell_type": "code",
      "metadata": {
        "id": "pupqR8s5C-vY",
        "colab_type": "code",
        "colab": {
          "base_uri": "https://localhost:8080/",
          "height": 34
        },
        "outputId": "7ff370e5-df36-4a04-a83a-a47b2e1e5d72"
      },
      "source": [
        "tx.shape"
      ],
      "execution_count": 60,
      "outputs": [
        {
          "output_type": "execute_result",
          "data": {
            "text/plain": [
              "(2830, 12)"
            ]
          },
          "metadata": {
            "tags": []
          },
          "execution_count": 60
        }
      ]
    },
    {
      "cell_type": "markdown",
      "metadata": {
        "id": "Hx6Ld__6_S_P",
        "colab_type": "text"
      },
      "source": [
        "Sacamos la media para considerar que los que posean + de la media sean considerados GRANDES y los que tengan - sean considerados CHICOS\n"
      ]
    },
    {
      "cell_type": "code",
      "metadata": {
        "id": "pgmqqJMP2clW",
        "colab_type": "code",
        "colab": {
          "base_uri": "https://localhost:8080/",
          "height": 34
        },
        "outputId": "2c5a4768-dc85-4dcc-ac36-7e100308490c"
      },
      "source": [
        "tx['i0v'].mean()"
      ],
      "execution_count": 24,
      "outputs": [
        {
          "output_type": "execute_result",
          "data": {
            "text/plain": [
              "289.9050008"
            ]
          },
          "metadata": {
            "tags": []
          },
          "execution_count": 24
        }
      ]
    },
    {
      "cell_type": "markdown",
      "metadata": {
        "id": "5ThHlCn2DkVR",
        "colab_type": "text"
      },
      "source": [
        "O sea que de 2830 transacciones, solo 397 superan la media"
      ]
    },
    {
      "cell_type": "code",
      "metadata": {
        "id": "Gh8dn8uTB2Cy",
        "colab_type": "code",
        "colab": {
          "base_uri": "https://localhost:8080/",
          "height": 419
        },
        "outputId": "685554d7-c94f-408f-9e13-5921fea87bbe"
      },
      "source": [
        "tx.loc[tx['i0v'] > 290]"
      ],
      "execution_count": 42,
      "outputs": [
        {
          "output_type": "execute_result",
          "data": {
            "text/html": [
              "<div>\n",
              "<style scoped>\n",
              "    .dataframe tbody tr th:only-of-type {\n",
              "        vertical-align: middle;\n",
              "    }\n",
              "\n",
              "    .dataframe tbody tr th {\n",
              "        vertical-align: top;\n",
              "    }\n",
              "\n",
              "    .dataframe thead th {\n",
              "        text-align: right;\n",
              "    }\n",
              "</style>\n",
              "<table border=\"1\" class=\"dataframe\">\n",
              "  <thead>\n",
              "    <tr style=\"text-align: right;\">\n",
              "      <th></th>\n",
              "      <th>hash</th>\n",
              "      <th>time</th>\n",
              "      <th>i0v</th>\n",
              "      <th>i1v</th>\n",
              "      <th>i2v</th>\n",
              "      <th>i3v</th>\n",
              "      <th>i4v</th>\n",
              "      <th>o0v</th>\n",
              "      <th>o1v</th>\n",
              "      <th>o2v</th>\n",
              "      <th>o3v</th>\n",
              "      <th>o4v</th>\n",
              "    </tr>\n",
              "  </thead>\n",
              "  <tbody>\n",
              "    <tr>\n",
              "      <th>1</th>\n",
              "      <td>8325d3decbb805e09f042fc946bc61076be3578af331b1...</td>\n",
              "      <td>2020-02-26 00:10:06</td>\n",
              "      <td>50000.000000</td>\n",
              "      <td>0.000000</td>\n",
              "      <td>0.0</td>\n",
              "      <td>0.0</td>\n",
              "      <td>0.0</td>\n",
              "      <td>5100.000000</td>\n",
              "      <td>44899.916000</td>\n",
              "      <td>0.000000</td>\n",
              "      <td>0.000000</td>\n",
              "      <td>0.000000</td>\n",
              "    </tr>\n",
              "    <tr>\n",
              "      <th>4</th>\n",
              "      <td>9491757c01ab9c01eb03d6db97e4feba4c4675bf6dd803...</td>\n",
              "      <td>2020-02-26 00:10:06</td>\n",
              "      <td>777.883277</td>\n",
              "      <td>0.000000</td>\n",
              "      <td>0.0</td>\n",
              "      <td>0.0</td>\n",
              "      <td>0.0</td>\n",
              "      <td>10.700520</td>\n",
              "      <td>767.132657</td>\n",
              "      <td>0.000000</td>\n",
              "      <td>0.000000</td>\n",
              "      <td>0.000000</td>\n",
              "    </tr>\n",
              "    <tr>\n",
              "      <th>9</th>\n",
              "      <td>d71168c5cc0be93fdc1307cd79a1c77783ccdac9a15126...</td>\n",
              "      <td>2020-02-26 00:10:06</td>\n",
              "      <td>382.910040</td>\n",
              "      <td>0.000000</td>\n",
              "      <td>0.0</td>\n",
              "      <td>0.0</td>\n",
              "      <td>0.0</td>\n",
              "      <td>188.420000</td>\n",
              "      <td>194.456840</td>\n",
              "      <td>0.000000</td>\n",
              "      <td>0.000000</td>\n",
              "      <td>0.000000</td>\n",
              "    </tr>\n",
              "    <tr>\n",
              "      <th>15</th>\n",
              "      <td>290ef0194c4a39532f787d69a45a7d9fc641ab3cc6e142...</td>\n",
              "      <td>2020-02-26 00:10:06</td>\n",
              "      <td>381.011000</td>\n",
              "      <td>0.000000</td>\n",
              "      <td>0.0</td>\n",
              "      <td>0.0</td>\n",
              "      <td>0.0</td>\n",
              "      <td>0.226957</td>\n",
              "      <td>65.830000</td>\n",
              "      <td>314.914043</td>\n",
              "      <td>0.000000</td>\n",
              "      <td>0.000000</td>\n",
              "    </tr>\n",
              "    <tr>\n",
              "      <th>24</th>\n",
              "      <td>89e667800bca0e820f4e45df3f5858cec8efa40cdc745b...</td>\n",
              "      <td>2020-02-26 00:10:06</td>\n",
              "      <td>599.567684</td>\n",
              "      <td>0.000000</td>\n",
              "      <td>0.0</td>\n",
              "      <td>0.0</td>\n",
              "      <td>0.0</td>\n",
              "      <td>33.900000</td>\n",
              "      <td>565.639796</td>\n",
              "      <td>0.000000</td>\n",
              "      <td>0.000000</td>\n",
              "      <td>0.000000</td>\n",
              "    </tr>\n",
              "    <tr>\n",
              "      <th>...</th>\n",
              "      <td>...</td>\n",
              "      <td>...</td>\n",
              "      <td>...</td>\n",
              "      <td>...</td>\n",
              "      <td>...</td>\n",
              "      <td>...</td>\n",
              "      <td>...</td>\n",
              "      <td>...</td>\n",
              "      <td>...</td>\n",
              "      <td>...</td>\n",
              "      <td>...</td>\n",
              "      <td>...</td>\n",
              "    </tr>\n",
              "    <tr>\n",
              "      <th>2719</th>\n",
              "      <td>8814957d6f2dffd6d854b03ecb582437bb45e6210667b0...</td>\n",
              "      <td>2020-02-26 00:10:06</td>\n",
              "      <td>5100.000000</td>\n",
              "      <td>114.665718</td>\n",
              "      <td>0.0</td>\n",
              "      <td>0.0</td>\n",
              "      <td>0.0</td>\n",
              "      <td>0.200000</td>\n",
              "      <td>0.200000</td>\n",
              "      <td>0.214450</td>\n",
              "      <td>0.215572</td>\n",
              "      <td>0.269455</td>\n",
              "    </tr>\n",
              "    <tr>\n",
              "      <th>2732</th>\n",
              "      <td>fd2fb9f73228229ca774a6183367aebeab3a19e2bba83e...</td>\n",
              "      <td>2020-02-26 00:10:06</td>\n",
              "      <td>1083.632415</td>\n",
              "      <td>0.000000</td>\n",
              "      <td>0.0</td>\n",
              "      <td>0.0</td>\n",
              "      <td>0.0</td>\n",
              "      <td>1.293570</td>\n",
              "      <td>1082.335951</td>\n",
              "      <td>0.000000</td>\n",
              "      <td>0.000000</td>\n",
              "      <td>0.000000</td>\n",
              "    </tr>\n",
              "    <tr>\n",
              "      <th>2733</th>\n",
              "      <td>ddee265e4143f4bdef5b28c257d8053dfbd367195abc7f...</td>\n",
              "      <td>2020-02-26 00:10:06</td>\n",
              "      <td>1082.335951</td>\n",
              "      <td>0.000000</td>\n",
              "      <td>0.0</td>\n",
              "      <td>0.0</td>\n",
              "      <td>0.0</td>\n",
              "      <td>2.800000</td>\n",
              "      <td>1079.533117</td>\n",
              "      <td>0.000000</td>\n",
              "      <td>0.000000</td>\n",
              "      <td>0.000000</td>\n",
              "    </tr>\n",
              "    <tr>\n",
              "      <th>2773</th>\n",
              "      <td>c1eab7b894b8c88f4d809bd5117f77335ab4d779ab8818...</td>\n",
              "      <td>2020-02-26 00:10:06</td>\n",
              "      <td>2061.243785</td>\n",
              "      <td>0.000000</td>\n",
              "      <td>0.0</td>\n",
              "      <td>0.0</td>\n",
              "      <td>0.0</td>\n",
              "      <td>350.000000</td>\n",
              "      <td>1711.239265</td>\n",
              "      <td>0.000000</td>\n",
              "      <td>0.000000</td>\n",
              "      <td>0.000000</td>\n",
              "    </tr>\n",
              "    <tr>\n",
              "      <th>2826</th>\n",
              "      <td>3c9a89fcf24e796e3297be28d0a6590e89943e80f8d66d...</td>\n",
              "      <td>2020-02-26 00:10:06</td>\n",
              "      <td>762.423071</td>\n",
              "      <td>0.000000</td>\n",
              "      <td>0.0</td>\n",
              "      <td>0.0</td>\n",
              "      <td>0.0</td>\n",
              "      <td>0.557100</td>\n",
              "      <td>761.861572</td>\n",
              "      <td>0.000000</td>\n",
              "      <td>0.000000</td>\n",
              "      <td>0.000000</td>\n",
              "    </tr>\n",
              "  </tbody>\n",
              "</table>\n",
              "<p>397 rows × 12 columns</p>\n",
              "</div>"
            ],
            "text/plain": [
              "                                                   hash  ...       o4v\n",
              "1     8325d3decbb805e09f042fc946bc61076be3578af331b1...  ...  0.000000\n",
              "4     9491757c01ab9c01eb03d6db97e4feba4c4675bf6dd803...  ...  0.000000\n",
              "9     d71168c5cc0be93fdc1307cd79a1c77783ccdac9a15126...  ...  0.000000\n",
              "15    290ef0194c4a39532f787d69a45a7d9fc641ab3cc6e142...  ...  0.000000\n",
              "24    89e667800bca0e820f4e45df3f5858cec8efa40cdc745b...  ...  0.000000\n",
              "...                                                 ...  ...       ...\n",
              "2719  8814957d6f2dffd6d854b03ecb582437bb45e6210667b0...  ...  0.269455\n",
              "2732  fd2fb9f73228229ca774a6183367aebeab3a19e2bba83e...  ...  0.000000\n",
              "2733  ddee265e4143f4bdef5b28c257d8053dfbd367195abc7f...  ...  0.000000\n",
              "2773  c1eab7b894b8c88f4d809bd5117f77335ab4d779ab8818...  ...  0.000000\n",
              "2826  3c9a89fcf24e796e3297be28d0a6590e89943e80f8d66d...  ...  0.000000\n",
              "\n",
              "[397 rows x 12 columns]"
            ]
          },
          "metadata": {
            "tags": []
          },
          "execution_count": 42
        }
      ]
    }
  ]
}