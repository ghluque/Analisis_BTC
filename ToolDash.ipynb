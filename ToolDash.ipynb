{
  "nbformat": 4,
  "nbformat_minor": 0,
  "metadata": {
    "colab": {
      "name": "ToolDash.ipynb",
      "provenance": [],
      "collapsed_sections": [],
      "include_colab_link": true
    },
    "kernelspec": {
      "name": "python3",
      "display_name": "Python 3"
    }
  },
  "cells": [
    {
      "cell_type": "markdown",
      "metadata": {
        "id": "view-in-github",
        "colab_type": "text"
      },
      "source": [
        "<a href=\"https://colab.research.google.com/github/ghluque/Analisis_BTC/blob/master/ToolDash.ipynb\" target=\"_parent\"><img src=\"https://colab.research.google.com/assets/colab-badge.svg\" alt=\"Open In Colab\"/></a>"
      ]
    },
    {
      "cell_type": "markdown",
      "metadata": {
        "id": "8ZB9lTVLTEKx",
        "colab_type": "text"
      },
      "source": [
        "#INFO: Como ejecutar una app Dash en Google Colab\n",
        "\n",
        "Spoiler: le usamos la VM como si fuera un linux cualquiera :D\n"
      ]
    },
    {
      "cell_type": "code",
      "metadata": {
        "id": "er746sPo3CZF",
        "colab_type": "code",
        "outputId": "7ffb4625-d5ad-4a8d-d462-d42a362c6240",
        "colab": {
          "base_uri": "https://localhost:8080/",
          "height": 936
        }
      },
      "source": [
        "#S: Install Dash\n",
        "!pip install dash\n",
        "!pip install dash-html-components\n",
        "!pip install dash-core-components\n",
        "!pip install dash-table"
      ],
      "execution_count": 0,
      "outputs": [
        {
          "output_type": "stream",
          "text": [
            "Collecting dash\n",
            "\u001b[?25l  Downloading https://files.pythonhosted.org/packages/12/58/3f0e061150d2aee6501747e7ba0d3486461a3470aba556eca5b659c5733b/dash-1.9.1.tar.gz (64kB)\n",
            "\r\u001b[K     |█████                           | 10kB 18.2MB/s eta 0:00:01\r\u001b[K     |██████████▏                     | 20kB 3.5MB/s eta 0:00:01\r\u001b[K     |███████████████▎                | 30kB 5.0MB/s eta 0:00:01\r\u001b[K     |████████████████████▍           | 40kB 3.2MB/s eta 0:00:01\r\u001b[K     |█████████████████████████▌      | 51kB 3.9MB/s eta 0:00:01\r\u001b[K     |██████████████████████████████▋ | 61kB 4.7MB/s eta 0:00:01\r\u001b[K     |████████████████████████████████| 71kB 3.6MB/s \n",
            "\u001b[?25hRequirement already satisfied: Flask>=1.0.2 in /usr/local/lib/python3.6/dist-packages (from dash) (1.1.1)\n",
            "Collecting flask-compress\n",
            "  Downloading https://files.pythonhosted.org/packages/0e/2a/378bd072928f6d92fd8c417d66b00c757dc361c0405a46a0134de6fd323d/Flask-Compress-1.4.0.tar.gz\n",
            "Requirement already satisfied: plotly in /usr/local/lib/python3.6/dist-packages (from dash) (4.4.1)\n",
            "Collecting dash_renderer==1.2.4\n",
            "\u001b[?25l  Downloading https://files.pythonhosted.org/packages/12/38/6ca3478c05420b2ed9c6ef42bc59a6fa487b3cd0125de7e253e84246559f/dash_renderer-1.2.4.tar.gz (1.1MB)\n",
            "\u001b[K     |████████████████████████████████| 1.1MB 14.4MB/s \n",
            "\u001b[?25hCollecting dash-core-components==1.8.1\n",
            "\u001b[?25l  Downloading https://files.pythonhosted.org/packages/d8/ef/950e7d6dd3429925104406df996758bf6fd309c88d4c2ca34ecd77a847f5/dash_core_components-1.8.1.tar.gz (3.3MB)\n",
            "\u001b[K     |████████████████████████████████| 3.3MB 51.1MB/s \n",
            "\u001b[?25hCollecting dash-html-components==1.0.2\n",
            "\u001b[?25l  Downloading https://files.pythonhosted.org/packages/b4/9e/76988b02d09268495218639ad45dbfafe7dec8a52961278aeedaffb638ea/dash_html_components-1.0.2.tar.gz (187kB)\n",
            "\u001b[K     |████████████████████████████████| 194kB 56.7MB/s \n",
            "\u001b[?25hCollecting dash-table==4.6.1\n",
            "\u001b[?25l  Downloading https://files.pythonhosted.org/packages/7e/55/cd272ee8309c97666bffb12318ff3066bbc1936095e95af92507d452b083/dash_table-4.6.1.tar.gz (1.8MB)\n",
            "\u001b[K     |████████████████████████████████| 1.8MB 26.9MB/s \n",
            "\u001b[?25hRequirement already satisfied: future in /usr/local/lib/python3.6/dist-packages (from dash) (0.16.0)\n",
            "Requirement already satisfied: itsdangerous>=0.24 in /usr/local/lib/python3.6/dist-packages (from Flask>=1.0.2->dash) (1.1.0)\n",
            "Requirement already satisfied: Werkzeug>=0.15 in /usr/local/lib/python3.6/dist-packages (from Flask>=1.0.2->dash) (1.0.0)\n",
            "Requirement already satisfied: click>=5.1 in /usr/local/lib/python3.6/dist-packages (from Flask>=1.0.2->dash) (7.1.1)\n",
            "Requirement already satisfied: Jinja2>=2.10.1 in /usr/local/lib/python3.6/dist-packages (from Flask>=1.0.2->dash) (2.11.1)\n",
            "Requirement already satisfied: six in /usr/local/lib/python3.6/dist-packages (from plotly->dash) (1.12.0)\n",
            "Requirement already satisfied: retrying>=1.3.3 in /usr/local/lib/python3.6/dist-packages (from plotly->dash) (1.3.3)\n",
            "Requirement already satisfied: MarkupSafe>=0.23 in /usr/local/lib/python3.6/dist-packages (from Jinja2>=2.10.1->Flask>=1.0.2->dash) (1.1.1)\n",
            "Building wheels for collected packages: dash, flask-compress, dash-renderer, dash-core-components, dash-html-components, dash-table\n",
            "  Building wheel for dash (setup.py) ... \u001b[?25l\u001b[?25hdone\n",
            "  Created wheel for dash: filename=dash-1.9.1-cp36-none-any.whl size=71512 sha256=02544b75fe4306644664861fad9addbe0c20dbc99b28ab2138cfc630327b0856\n",
            "  Stored in directory: /root/.cache/pip/wheels/ae/29/73/dd1e3699c9b9e5488b9688fed5d990364317c8472004f8df0b\n",
            "  Building wheel for flask-compress (setup.py) ... \u001b[?25l\u001b[?25hdone\n",
            "  Created wheel for flask-compress: filename=Flask_Compress-1.4.0-cp36-none-any.whl size=3712 sha256=6642a4bd3cb9f8cbf5c8cffb5e3fb7403a157b7c2c3f55e451034ef9452cc0c1\n",
            "  Stored in directory: /root/.cache/pip/wheels/96/32/88/a1f6d9dd3c29570ab3a8acc0d556b3b20abcf3c623c868ce0a\n",
            "  Building wheel for dash-renderer (setup.py) ... \u001b[?25l\u001b[?25hdone\n",
            "  Created wheel for dash-renderer: filename=dash_renderer-1.2.4-cp36-none-any.whl size=1146887 sha256=4a4a09124c816e36e60b08a56860cbf44feb758794202edff4dd85013865b20c\n",
            "  Stored in directory: /root/.cache/pip/wheels/1b/91/5e/af35d118f1c25482e973db760534c3c3666287ab687059a1a4\n",
            "  Building wheel for dash-core-components (setup.py) ... \u001b[?25l\u001b[?25hdone\n",
            "  Created wheel for dash-core-components: filename=dash_core_components-1.8.1-cp36-none-any.whl size=3395725 sha256=0f38cec24faa24d2c06e732084ee8ca8d9b55f0e79d1bbd7a053b4816cb73aaa\n",
            "  Stored in directory: /root/.cache/pip/wheels/e6/bb/a2/28ba307164585367dd524d2a8ce039d3f41ea2eb0c025ce32b\n",
            "  Building wheel for dash-html-components (setup.py) ... \u001b[?25l\u001b[?25hdone\n",
            "  Created wheel for dash-html-components: filename=dash_html_components-1.0.2-cp36-none-any.whl size=427903 sha256=705dcbe8c28a917002725780c76f2340027eb2e93b6a4513b61ed015fac99f7b\n",
            "  Stored in directory: /root/.cache/pip/wheels/59/6d/79/e8fbded6c6102c00ef0d58a278a488d913d30c51ae95dbef90\n",
            "  Building wheel for dash-table (setup.py) ... \u001b[?25l\u001b[?25hdone\n",
            "  Created wheel for dash-table: filename=dash_table-4.6.1-cp36-none-any.whl size=1765779 sha256=fb565b480f6308de2b72255f6a6012e48d2a397aa90d52aa6bbe033da3d9412c\n",
            "  Stored in directory: /root/.cache/pip/wheels/33/2b/63/5833408d184e067a28786814044c69c1b269a2945afd436649\n",
            "Successfully built dash flask-compress dash-renderer dash-core-components dash-html-components dash-table\n",
            "Installing collected packages: flask-compress, dash-renderer, dash-core-components, dash-html-components, dash-table, dash\n",
            "Successfully installed dash-1.9.1 dash-core-components-1.8.1 dash-html-components-1.0.2 dash-renderer-1.2.4 dash-table-4.6.1 flask-compress-1.4.0\n",
            "Requirement already satisfied: dash-html-components in /usr/local/lib/python3.6/dist-packages (1.0.2)\n",
            "Requirement already satisfied: dash-core-components in /usr/local/lib/python3.6/dist-packages (1.8.1)\n",
            "Requirement already satisfied: dash-table in /usr/local/lib/python3.6/dist-packages (4.6.1)\n"
          ],
          "name": "stdout"
        }
      ]
    },
    {
      "cell_type": "code",
      "metadata": {
        "id": "vC6PMORx29jz",
        "colab_type": "code",
        "colab": {}
      },
      "source": [
        "### Requerido1: ngrok para abrir un tunel SALIENDO desde la VM de Colab\n",
        "# porque sino seria inaccesible desde tu navegador\n",
        "# colab te da una maquina virtual que no tiene una IP publica\n",
        "# ngrok abre un tunel SALIENDO desde la virtual a su sevidor\n",
        "# y te permite conectarte al servidor dash que vas a ejecutar en la VM\n",
        "# Se podria inventar algo parecido con ssh y un hosting, por ej.\n",
        "import os.path;\n",
        "import sys, json;\n",
        "import requests;\n",
        "\n",
        "import subprocess\n",
        "Tunnel= None\n",
        "TunnelUrl= None\n",
        "def tunnel_start():\n",
        "  global Tunnel, TunnelUrl\n",
        "  if not os.path.isfile('ngrok'):\n",
        "    !wget https://bin.equinox.io/c/4VmDzA7iaHb/ngrok-stable-linux-amd64.zip\n",
        "    !unzip -o ngrok-stable-linux-amd64.zip\n",
        "  #A: si no teniamos ngrok lo bajamos\n",
        "\n",
        "  if Tunnel and Tunnel.poll()!=None: #A: estaba activo pero termino\n",
        "    Tunnel= None\n",
        "\n",
        "  if not Tunnel: #A: no estaba ejecutando\n",
        "    Tunnel= subprocess.Popen([\"./ngrok\",\"http\",\"8050\"]) #A: lanzamos el proceso\n",
        "  \n",
        "  tunnel_res= requests.get(\"http://localhost:4040/api/tunnels\")\n",
        "  tunnel_str= tunnel_res.text\n",
        "  tunnel_cfg= json.loads(tunnel_str)\n",
        "\n",
        "  TunnelUrl= tunnel_cfg['tunnels'][0]['public_url']\n",
        "  print(\"Podes acceder desde \"+TunnelUrl)\n",
        "  return TunnelUrl  "
      ],
      "execution_count": 0,
      "outputs": []
    },
    {
      "cell_type": "code",
      "metadata": {
        "id": "ALh7_Oj71zem",
        "colab_type": "code",
        "outputId": "ffe674c8-5a8c-4ee0-840c-996561e77f1e",
        "colab": {
          "base_uri": "https://localhost:8080/",
          "height": 34
        }
      },
      "source": [
        "#S: la aplicacion Dash\n",
        "#A: Guardar un archivo en la VM de Colab, simplemente\n",
        "#U: se podria bajar de github con !git clone o !wget\n",
        "\n",
        "%%writefile my_dash_app1.py\n",
        "#FROM: https://dash.plot.ly/interactive-graphing\n",
        "import dash\n",
        "import dash_core_components as dcc\n",
        "import dash_html_components as html\n",
        "import pandas as pd\n",
        "\n",
        "external_stylesheets = ['https://codepen.io/chriddyp/pen/bWLwgP.css']\n",
        "\n",
        "app = dash.Dash(__name__, external_stylesheets=external_stylesheets)\n",
        "\n",
        "df = pd.read_csv('https://plotly.github.io/datasets/country_indicators.csv')\n",
        "\n",
        "available_indicators = df['Indicator Name'].unique()\n",
        "\n",
        "app.layout = html.Div([\n",
        "    html.Div([\n",
        "\n",
        "        html.Div([\n",
        "            dcc.Dropdown(\n",
        "                id='crossfilter-xaxis-column',\n",
        "                options=[{'label': i, 'value': i} for i in available_indicators],\n",
        "                value='Fertility rate, total (births per woman)'\n",
        "            ),\n",
        "            dcc.RadioItems(\n",
        "                id='crossfilter-xaxis-type',\n",
        "                options=[{'label': i, 'value': i} for i in ['Linear', 'Log']],\n",
        "                value='Linear',\n",
        "                labelStyle={'display': 'inline-block'}\n",
        "            )\n",
        "        ],\n",
        "        style={'width': '49%', 'display': 'inline-block'}),\n",
        "\n",
        "        html.Div([\n",
        "            dcc.Dropdown(\n",
        "                id='crossfilter-yaxis-column',\n",
        "                options=[{'label': i, 'value': i} for i in available_indicators],\n",
        "                value='Life expectancy at birth, total (years)'\n",
        "            ),\n",
        "            dcc.RadioItems(\n",
        "                id='crossfilter-yaxis-type',\n",
        "                options=[{'label': i, 'value': i} for i in ['Linear', 'Log']],\n",
        "                value='Linear',\n",
        "                labelStyle={'display': 'inline-block'}\n",
        "            )\n",
        "        ], style={'width': '49%', 'float': 'right', 'display': 'inline-block'})\n",
        "    ], style={\n",
        "        'borderBottom': 'thin lightgrey solid',\n",
        "        'backgroundColor': 'rgb(250, 250, 250)',\n",
        "        'padding': '10px 5px'\n",
        "    }),\n",
        "\n",
        "    html.Div([\n",
        "        dcc.Graph(\n",
        "            id='crossfilter-indicator-scatter',\n",
        "            hoverData={'points': [{'customdata': 'Japan'}]}\n",
        "        )\n",
        "    ], style={'width': '49%', 'display': 'inline-block', 'padding': '0 20'}),\n",
        "    html.Div([\n",
        "        dcc.Graph(id='x-time-series'),\n",
        "        dcc.Graph(id='y-time-series'),\n",
        "    ], style={'display': 'inline-block', 'width': '49%'}),\n",
        "\n",
        "    html.Div(dcc.Slider(\n",
        "        id='crossfilter-year--slider',\n",
        "        min=df['Year'].min(),\n",
        "        max=df['Year'].max(),\n",
        "        value=df['Year'].max(),\n",
        "        marks={str(year): str(year) for year in df['Year'].unique()},\n",
        "        step=None\n",
        "    ), style={'width': '49%', 'padding': '0px 20px 20px 20px'})\n",
        "])\n",
        "\n",
        "\n",
        "@app.callback(\n",
        "    dash.dependencies.Output('crossfilter-indicator-scatter', 'figure'),\n",
        "    [dash.dependencies.Input('crossfilter-xaxis-column', 'value'),\n",
        "     dash.dependencies.Input('crossfilter-yaxis-column', 'value'),\n",
        "     dash.dependencies.Input('crossfilter-xaxis-type', 'value'),\n",
        "     dash.dependencies.Input('crossfilter-yaxis-type', 'value'),\n",
        "     dash.dependencies.Input('crossfilter-year--slider', 'value')])\n",
        "def update_graph(xaxis_column_name, yaxis_column_name,\n",
        "                 xaxis_type, yaxis_type,\n",
        "                 year_value):\n",
        "    dff = df[df['Year'] == year_value]\n",
        "\n",
        "    return {\n",
        "        'data': [dict(\n",
        "            x=dff[dff['Indicator Name'] == xaxis_column_name]['Value'],\n",
        "            y=dff[dff['Indicator Name'] == yaxis_column_name]['Value'],\n",
        "            text=dff[dff['Indicator Name'] == yaxis_column_name]['Country Name'],\n",
        "            customdata=dff[dff['Indicator Name'] == yaxis_column_name]['Country Name'],\n",
        "            mode='markers',\n",
        "            marker={\n",
        "                'size': 15,\n",
        "                'opacity': 0.5,\n",
        "                'line': {'width': 0.5, 'color': 'white'}\n",
        "            }\n",
        "        )],\n",
        "        'layout': dict(\n",
        "            xaxis={\n",
        "                'title': xaxis_column_name,\n",
        "                'type': 'linear' if xaxis_type == 'Linear' else 'log'\n",
        "            },\n",
        "            yaxis={\n",
        "                'title': yaxis_column_name,\n",
        "                'type': 'linear' if yaxis_type == 'Linear' else 'log'\n",
        "            },\n",
        "            margin={'l': 40, 'b': 30, 't': 10, 'r': 0},\n",
        "            height=450,\n",
        "            hovermode='closest'\n",
        "        )\n",
        "    }\n",
        "\n",
        "\n",
        "def create_time_series(dff, axis_type, title):\n",
        "    return {\n",
        "        'data': [dict(\n",
        "            x=dff['Year'],\n",
        "            y=dff['Value'],\n",
        "            mode='lines+markers'\n",
        "        )],\n",
        "        'layout': {\n",
        "            'height': 225,\n",
        "            'margin': {'l': 20, 'b': 30, 'r': 10, 't': 10},\n",
        "            'annotations': [{\n",
        "                'x': 0, 'y': 0.85, 'xanchor': 'left', 'yanchor': 'bottom',\n",
        "                'xref': 'paper', 'yref': 'paper', 'showarrow': False,\n",
        "                'align': 'left', 'bgcolor': 'rgba(255, 255, 255, 0.5)',\n",
        "                'text': title\n",
        "            }],\n",
        "            'yaxis': {'type': 'linear' if axis_type == 'Linear' else 'log'},\n",
        "            'xaxis': {'showgrid': False}\n",
        "        }\n",
        "    }\n",
        "\n",
        "\n",
        "@app.callback(\n",
        "    dash.dependencies.Output('x-time-series', 'figure'),\n",
        "    [dash.dependencies.Input('crossfilter-indicator-scatter', 'hoverData'),\n",
        "     dash.dependencies.Input('crossfilter-xaxis-column', 'value'),\n",
        "     dash.dependencies.Input('crossfilter-xaxis-type', 'value')])\n",
        "def update_y_timeseries(hoverData, xaxis_column_name, axis_type):\n",
        "    country_name = hoverData['points'][0]['customdata']\n",
        "    dff = df[df['Country Name'] == country_name]\n",
        "    dff = dff[dff['Indicator Name'] == xaxis_column_name]\n",
        "    title = '<b>{}</b><br>{}'.format(country_name, xaxis_column_name)\n",
        "    return create_time_series(dff, axis_type, title)\n",
        "\n",
        "\n",
        "@app.callback(\n",
        "    dash.dependencies.Output('y-time-series', 'figure'),\n",
        "    [dash.dependencies.Input('crossfilter-indicator-scatter', 'hoverData'),\n",
        "     dash.dependencies.Input('crossfilter-yaxis-column', 'value'),\n",
        "     dash.dependencies.Input('crossfilter-yaxis-type', 'value')])\n",
        "def update_x_timeseries(hoverData, yaxis_column_name, axis_type):\n",
        "    dff = df[df['Country Name'] == hoverData['points'][0]['customdata']]\n",
        "    dff = dff[dff['Indicator Name'] == yaxis_column_name]\n",
        "    return create_time_series(dff, axis_type, yaxis_column_name)\n",
        "\n",
        "\n",
        "if __name__ == '__main__':\n",
        "    app.run_server(debug=True)"
      ],
      "execution_count": 0,
      "outputs": [
        {
          "output_type": "stream",
          "text": [
            "Writing my_dash_app1.py\n"
          ],
          "name": "stdout"
        }
      ]
    },
    {
      "cell_type": "code",
      "metadata": {
        "id": "etkc93pm17BE",
        "colab_type": "code",
        "outputId": "87dff5f9-68af-4c15-bb79-fbc04599e29c",
        "colab": {
          "base_uri": "https://localhost:8080/",
          "height": 190
        }
      },
      "source": [
        "#S: ejecutar la app dash\n",
        "tunnel_start()\n",
        "!python my_dash_app1.py #A: hay que ejecutarla desde python como una app en la VM, no se puede desde este cuaderno"
      ],
      "execution_count": 0,
      "outputs": [
        {
          "output_type": "stream",
          "text": [
            "Podes acceder desde https://4a3be6a6.ngrok.io\n",
            "Running on http://127.0.0.1:8050/\n",
            "Debugger PIN: 609-526-431\n",
            " * Serving Flask app \"my_dash_app1\" (lazy loading)\n",
            " * Environment: production\n",
            "\u001b[31m   WARNING: This is a development server. Do not use it in a production deployment.\u001b[0m\n",
            "\u001b[2m   Use a production WSGI server instead.\u001b[0m\n",
            " * Debug mode: on\n",
            "Running on http://127.0.0.1:8050/\n",
            "Debugger PIN: 468-259-284\n"
          ],
          "name": "stdout"
        }
      ]
    },
    {
      "cell_type": "code",
      "metadata": {
        "id": "PZLys0YYekCL",
        "colab_type": "code",
        "outputId": "b875066f-d90b-4925-e7cc-29fcc1af07c2",
        "colab": {
          "base_uri": "https://localhost:8080/",
          "height": 34
        }
      },
      "source": [
        "!node -e 'console.log(\"pepe\")'\n",
        "\n"
      ],
      "execution_count": 0,
      "outputs": [
        {
          "output_type": "stream",
          "text": [
            "pepe\n"
          ],
          "name": "stdout"
        }
      ]
    }
  ]
}